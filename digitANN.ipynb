{
  "nbformat": 4,
  "nbformat_minor": 0,
  "metadata": {
    "colab": {
      "provenance": [],
      "authorship_tag": "ABX9TyObp4Ay+nlkqtLz5pwbt60y",
      "include_colab_link": true
    },
    "kernelspec": {
      "name": "python3",
      "display_name": "Python 3"
    },
    "language_info": {
      "name": "python"
    }
  },
  "cells": [
    {
      "cell_type": "markdown",
      "metadata": {
        "id": "view-in-github",
        "colab_type": "text"
      },
      "source": [
        "<a href=\"https://colab.research.google.com/github/BRAHIMLOUARDI/windows/blob/main/digitANN.ipynb\" target=\"_parent\"><img src=\"https://colab.research.google.com/assets/colab-badge.svg\" alt=\"Open In Colab\"/></a>"
      ]
    },
    {
      "cell_type": "code",
      "source": [
        "import pandas as pd\n",
        "import numpy as np\n",
        "import pickle\n",
        "from keras.datasets import mnist\n",
        "import matplotlib.pyplot as plt\n",
        "\n",
        "def ReLU(Z):\n",
        "    return np.maximum(Z,0)\n",
        "\n",
        "def derivative_ReLU(Z):\n",
        "    return Z > 0\n",
        "\n",
        "def softmax(Z):\n",
        "    \n",
        "    exp = np.exp(Z - np.max(Z)) \n",
        "    return exp / exp.sum(axis=0)\n",
        "\n",
        "def init_params(size):\n",
        "    W1 = np.random.rand(10,size) - 0.5\n",
        "    b1 = np.random.rand(10,1) - 0.5\n",
        "    W2 = np.random.rand(10,10) - 0.5\n",
        "    b2 = np.random.rand(10,1) - 0.5\n",
        "    return W1,b1,W2,b2\n",
        "\n",
        "def forward_propagation(X,W1,b1,W2,b2):\n",
        "    Z1 = W1.dot(X) + b1 #10, m\n",
        "    \n",
        "    A1 = ReLU(Z1) # 10,m\n",
        "    Z2 = W2.dot(A1) + b2 #10,m\n",
        "    A2 = softmax(Z2) #10,m\n",
        "    return Z1, A1, Z2, A2\n",
        "\n",
        "def one_hot(Y):\n",
        "    ''' return an 0 vector with 1 only in the position correspondind to the value in Y'''\n",
        "    one_hot_Y = np.zeros((Y.max()+1,Y.size)) \n",
        "    one_hot_Y[Y,np.arange(Y.size)] = 1\n",
        "    return one_hot_Y\n",
        "\n",
        "def backward_propagation(X, Y, A1, A2, W2, Z1, m):\n",
        "    one_hot_Y = one_hot(Y)\n",
        "    dZ2 = 2*(A2 - one_hot_Y) \n",
        "    dW2 = 1/m * (dZ2.dot(A1.T)) \n",
        "    db2 = 1/m * np.sum(dZ2,1) \n",
        "    dZ1 = W2.T.dot(dZ2)*derivative_ReLU(Z1) \n",
        "    dW1 = 1/m * (dZ1.dot(X.T)) \n",
        "    db1 = 1/m * np.sum(dZ1,1) \n",
        "\n",
        "    return dW1, db1, dW2, db2\n",
        "\n",
        "def update_params(alpha, W1, b1, W2, b2, dW1, db1, dW2, db2):\n",
        "    W1 -= alpha * dW1\n",
        "    b1 -= alpha * np.reshape(db1, (10,1))\n",
        "    W2 -= alpha * dW2\n",
        "    b2 -= alpha * np.reshape(db2, (10,1))\n",
        "\n",
        "    return W1, b1, W2, b2\n",
        "\n",
        "def get_predictions(A2):\n",
        "    return np.argmax(A2, 0)\n",
        "\n",
        "def get_accuracy(predictions, Y):\n",
        "    return np.sum(predictions == Y)/Y.size\n",
        "\n",
        "def gradient_descent(X, Y, alpha, iterations):\n",
        "    size , m = X.shape\n",
        "    print(f\"size={size} m={m}\")\n",
        "    \n",
        "    W1, b1, W2, b2 = init_params(size)\n",
        "    for i in range(iterations):\n",
        "        Z1, A1, Z2, A2 = forward_propagation(X, W1, b1, W2, b2)\n",
        "        print(f\"{Z1[0]}\")\n",
        "        break\n",
        "        dW1, db1, dW2, db2 = backward_propagation(X, Y, A1, A2, W2, Z1, m)\n",
        "    \n",
        "    \n",
        " \n",
        "        W1, b1, W2, b2 = update_params(alpha, W1, b1, W2, b2, dW1, db1, dW2, db2)   \n",
        "\n",
        "        if (i+1) % int(iterations/10) == 0:\n",
        "            print(f\"Iteration: {i+1} / {iterations}\")\n",
        "            prediction = get_predictions(A2)\n",
        "            print(f'{get_accuracy(prediction, Y):.3%}')\n",
        "    return W1, b1, W2, b2\n",
        "\n",
        "def make_predictions(X, W1 ,b1, W2, b2):\n",
        "    _, _, _, A2 = forward_propagation(X, W1, b1, W2, b2)\n",
        "    predictions = get_predictions(A2)\n",
        "    return predictions\n",
        "\n",
        "def show_prediction(index,X, Y, W1, b1, W2, b2):\n",
        "   \n",
        "    vect_X = X[:, index,None]\n",
        "    prediction = make_predictions(vect_X, W1, b1, W2, b2)\n",
        "    label = Y[index]\n",
        "    print(\"Prediction: \", prediction)\n",
        "    print(\"Label: \", label)\n",
        "\n",
        "    current_image = vect_X.reshape((WIDTH, HEIGHT)) * SCALE_FACTOR\n",
        "\n",
        "    plt.gray()\n",
        "    plt.imshow(current_image, interpolation='nearest')\n",
        "    plt.show()\n",
        "\n",
        "\n",
        "\n",
        "############## MAIN ##############\n",
        "\n",
        "(X_train, Y_train), (X_test, Y_test) = mnist.load_data()\n",
        "SCALE_FACTOR = 255 \n",
        "WIDTH = X_train.shape[1]\n",
        "HEIGHT = X_train.shape[2]\n",
        "X_train = X_train.reshape(X_train.shape[0],WIDTH*HEIGHT).T / SCALE_FACTOR\n",
        "X_test = X_test.reshape(X_test.shape[0],WIDTH*HEIGHT).T  / SCALE_FACTOR\n",
        "\n",
        "W1, b1, W2, b2 = gradient_descent(X_train, Y_train, 0.15, 200)\n",
        "with open(\"trained_params.pkl\",\"wb\") as dump_file:\n",
        "    pickle.dump((W1, b1, W2, b2),dump_file)\n",
        "\n",
        "with open(\"trained_params.pkl\",\"rb\") as dump_file:\n",
        "    W1, b1, W2, b2=pickle.load(dump_file)\n",
        "show_prediction(0,X_test, Y_test, W1, b1, W2, b2)\n",
        "show_prediction(1,X_test, Y_test, W1, b1, W2, b2)\n",
        "show_prediction(2,X_test, Y_test, W1, b1, W2, b2)\n",
        "show_prediction(100,X_test, Y_test, W1, b1, W2, b2)\n",
        "show_prediction(200,X_test, Y_test, W1, b1, W2, b2)"
      ],
      "metadata": {
        "colab": {
          "base_uri": "https://localhost:8080/",
          "height": 1000
        },
        "id": "8RCW-R7lJfxu",
        "outputId": "3753e41c-5d3b-4f82-a780-727394a988e2"
      },
      "execution_count": 39,
      "outputs": [
        {
          "output_type": "stream",
          "name": "stdout",
          "text": [
            "size=784 m=60000\n",
            "[ 1.91498443 -0.88614686 -0.24922236 ... -1.87834032  1.86655133\n",
            "  0.05070642]\n",
            "Prediction:  [9]\n",
            "Label:  7\n"
          ]
        },
        {
          "output_type": "display_data",
          "data": {
            "text/plain": [
              "<Figure size 432x288 with 1 Axes>"
            ],
            "image/png": "[encoded data removed]"
          },
          "metadata": {
            "needs_background": "light"
          }
        },
        {
          "output_type": "stream",
          "name": "stdout",
          "text": [
            "Prediction:  [5]\n",
            "Label:  2\n"
          ]
        },
        {
          "output_type": "display_data",
          "data": {
            "text/plain": [
              "<Figure size 432x288 with 1 Axes>"
            ],
            "image/png": "[encoded data removed]"
          },
          "metadata": {
            "needs_background": "light"
          }
        },
        {
          "output_type": "stream",
          "name": "stdout",
          "text": [
            "Prediction:  [8]\n",
            "Label:  1\n"
          ]
        },
        {
          "output_type": "display_data",
          "data": {
            "text/plain": [
              "<Figure size 432x288 with 1 Axes>"
            ],
            "image/png": "[encoded data removed]"
          },
          "metadata": {
            "needs_background": "light"
          }
        },
        {
          "output_type": "stream",
          "name": "stdout",
          "text": [
            "Prediction:  [9]\n",
            "Label:  6\n"
          ]
        },
        {
          "output_type": "display_data",
          "data": {
            "text/plain": [
              "<Figure size 432x288 with 1 Axes>"
            ],
            "image/png": "[encoded data removed]"
          },
          "metadata": {
            "needs_background": "light"
          }
        },
        {
          "output_type": "stream",
          "name": "stdout",
          "text": [
            "Prediction:  [5]\n",
            "Label:  3\n"
          ]
        },
        {
          "output_type": "display_data",
          "data": {
            "text/plain": [
              "<Figure size 432x288 with 1 Axes>"
            ],
            "image/png": "[encoded data removed]"
          },
          "metadata": {
            "needs_background": "light"
          }
        }
      ]
    },
    {
      "cell_type": "code",
      "source": [
        "np.array([[1,2,3],[1,2,3]])\n"
      ],
      "metadata": {
        "colab": {
          "base_uri": "https://localhost:8080/"
        },
        "id": "l4cxE0SUM0GR",
        "outputId": "46602cf5-a682-4580-80c6-0ce76e9abd01"
      },
      "execution_count": 26,
      "outputs": [
        {
          "output_type": "execute_result",
          "data": {
            "text/plain": [
              "array([[1, 2, 3],\n",
              "       [1, 2, 3]])"
            ]
          },
          "metadata": {},
          "execution_count": 26
        }
      ]
    }
  ]
}